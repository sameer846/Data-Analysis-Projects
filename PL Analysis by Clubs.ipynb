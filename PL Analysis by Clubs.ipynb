{
 "cells": [
  {
   "cell_type": "code",
   "execution_count": 1,
   "id": "d0e8d481",
   "metadata": {},
   "outputs": [],
   "source": [
    "from csv import reader"
   ]
  },
  {
   "cell_type": "code",
   "execution_count": 2,
   "id": "74d834b4",
   "metadata": {},
   "outputs": [],
   "source": [
    "dataset = list(reader(open(\"results.csv\", encoding=\"utf-8\")))"
   ]
  },
  {
   "cell_type": "code",
   "execution_count": 3,
   "id": "f25182d5",
   "metadata": {},
   "outputs": [],
   "source": [
    "header = dataset[0]\n",
    "record = dataset[1:]"
   ]
  },
  {
   "cell_type": "code",
   "execution_count": 4,
   "id": "f9b288a8",
   "metadata": {},
   "outputs": [
    {
     "data": {
      "text/plain": [
       "['Sheffield United', 'Liverpool', '1.0', '1.0', 'D', '2006-2007']"
      ]
     },
     "execution_count": 4,
     "metadata": {},
     "output_type": "execute_result"
    }
   ],
   "source": [
    "record[0]"
   ]
  },
  {
   "cell_type": "code",
   "execution_count": 5,
   "id": "a0129ce7",
   "metadata": {},
   "outputs": [],
   "source": [
    "season = []\n",
    "\n",
    "for i in record:\n",
    "    if i[-1] not in season:\n",
    "        season.append(i[-1])"
   ]
  },
  {
   "cell_type": "code",
   "execution_count": 6,
   "id": "40f8b231",
   "metadata": {},
   "outputs": [
    {
     "data": {
      "text/plain": [
       "['2006-2007',\n",
       " '2007-2008',\n",
       " '2008-2009',\n",
       " '2009-2010',\n",
       " '2010-2011',\n",
       " '2011-2012',\n",
       " '2012-2013',\n",
       " '2013-2014',\n",
       " '2014-2015',\n",
       " '2015-2016',\n",
       " '2016-2017',\n",
       " '2017-2018']"
      ]
     },
     "execution_count": 6,
     "metadata": {},
     "output_type": "execute_result"
    }
   ],
   "source": [
    "season"
   ]
  },
  {
   "cell_type": "code",
   "execution_count": 7,
   "id": "62417bb2",
   "metadata": {},
   "outputs": [
    {
     "name": "stdout",
     "output_type": "stream",
     "text": [
      "['Sheffield United', 'Liverpool', '1.0', '1.0', 'D', '2006-2007']\n",
      "['Arsenal', 'Aston Villa', '1.0', '1.0', 'D', '2006-2007']\n",
      "['Everton', 'Watford', '2.0', '1.0', 'H', '2006-2007']\n",
      "['Newcastle United', 'Wigan Athletic', '2.0', '1.0', 'H', '2006-2007']\n",
      "['Portsmouth', 'Blackburn Rovers', '3.0', '0.0', 'H', '2006-2007']\n",
      "['Reading', 'Middlesbrough', '3.0', '2.0', 'H', '2006-2007']\n",
      "['West Ham United', 'Charlton Athletic', '3.0', '1.0', 'H', '2006-2007']\n",
      "['Bolton Wanderers', 'Tottenham Hotspur', '2.0', '0.0', 'H', '2006-2007']\n",
      "['Manchester United', 'Fulham', '5.0', '1.0', 'H', '2006-2007']\n",
      "['Chelsea', 'Manchester City', '3.0', '0.0', 'H', '2006-2007']\n",
      "['Watford', 'West Ham United', '1.0', '1.0', 'D', '2006-2007']\n",
      "['Tottenham Hotspur', 'Sheffield United', '2.0', '0.0', 'H', '2006-2007']\n",
      "['Aston Villa', 'Reading', '2.0', '1.0', 'H', '2006-2007']\n",
      "['Manchester City', 'Portsmouth', '0.0', '0.0', 'D', '2006-2007']\n",
      "['Blackburn Rovers', 'Everton', '1.0', '1.0', 'D', '2006-2007']\n",
      "['Charlton Athletic', 'Manchester United', '0.0', '3.0', 'A', '2006-2007']\n",
      "['Fulham', 'Bolton Wanderers', '1.0', '1.0', 'D', '2006-2007']\n",
      "['Middlesbrough', 'Chelsea', '2.0', '1.0', 'H', '2006-2007']\n",
      "['Liverpool', 'West Ham United', '2.0', '1.0', 'H', '2006-2007']\n",
      "['Charlton Athletic', 'Bolton Wanderers', '2.0', '0.0', 'H', '2006-2007']\n",
      "['Fulham', 'Sheffield United', '1.0', '0.0', 'H', '2006-2007']\n",
      "['Tottenham Hotspur', 'Everton', '0.0', '2.0', 'A', '2006-2007']\n",
      "['Watford', 'Manchester United', '1.0', '2.0', 'A', '2006-2007']\n",
      "['Wigan Athletic', 'Reading', '1.0', '0.0', 'H', '2006-2007']\n",
      "['Manchester City', 'Arsenal', '1.0', '0.0', 'H', '2006-2007']\n",
      "['Aston Villa', 'Newcastle United', '2.0', '0.0', 'H', '2006-2007']\n",
      "['Blackburn Rovers', 'Chelsea', '0.0', '2.0', 'A', '2006-2007']\n",
      "['Middlesbrough', 'Portsmouth', '0.0', '4.0', 'A', '2006-2007']\n",
      "['Everton', 'Liverpool', '3.0', '0.0', 'H', '2006-2007']\n",
      "['Arsenal', 'Middlesbrough', '1.0', '1.0', 'D', '2006-2007']\n",
      "['Bolton Wanderers', 'Watford', '1.0', '0.0', 'H', '2006-2007']\n",
      "['Chelsea', 'Charlton Athletic', '2.0', '1.0', 'H', '2006-2007']\n",
      "['Newcastle United', 'Fulham', '1.0', '2.0', 'A', '2006-2007']\n",
      "['Portsmouth', 'Wigan Athletic', '1.0', '0.0', 'H', '2006-2007']\n",
      "['Sheffield United', 'Blackburn Rovers', '0.0', '0.0', 'D', '2006-2007']\n",
      "['Manchester United', 'Tottenham Hotspur', '1.0', '0.0', 'H', '2006-2007']\n",
      "['West Ham United', 'Aston Villa', '1.0', '1.0', 'D', '2006-2007']\n",
      "['Reading', 'Manchester City', '1.0', '0.0', 'H', '2006-2007']\n",
      "['Charlton Athletic', 'Portsmouth', '0.0', '1.0', 'A', '2006-2007']\n",
      "['Bolton Wanderers', 'Middlesbrough', '0.0', '0.0', 'D', '2006-2007']\n",
      "['Everton', 'Wigan Athletic', '2.0', '2.0', 'D', '2006-2007']\n",
      "['Sheffield United', 'Reading', '1.0', '2.0', 'A', '2006-2007']\n",
      "['Watford', 'Aston Villa', '0.0', '0.0', 'D', '2006-2007']\n",
      "['Chelsea', 'Liverpool', '1.0', '0.0', 'H', '2006-2007']\n",
      "['Blackburn Rovers', 'Manchester City', '4.0', '2.0', 'H', '2006-2007']\n",
      "['Tottenham Hotspur', 'Fulham', '0.0', '0.0', 'D', '2006-2007']\n",
      "['West Ham United', 'Newcastle United', '0.0', '2.0', 'A', '2006-2007']\n",
      "['Manchester United', 'Arsenal', '0.0', '1.0', 'A', '2006-2007']\n",
      "['Liverpool', 'Newcastle United', '2.0', '0.0', 'H', '2006-2007']\n",
      "['Liverpool', 'Tottenham Hotspur', '3.0', '0.0', 'H', '2006-2007']\n",
      "['Arsenal', 'Sheffield United', '3.0', '0.0', 'H', '2006-2007']\n",
      "['Aston Villa', 'Charlton Athletic', '2.0', '0.0', 'H', '2006-2007']\n",
      "['Fulham', 'Chelsea', '0.0', '2.0', 'A', '2006-2007']\n",
      "['Manchester City', 'West Ham United', '2.0', '0.0', 'H', '2006-2007']\n",
      "['Middlesbrough', 'Blackburn Rovers', '0.0', '1.0', 'A', '2006-2007']\n",
      "['Wigan Athletic', 'Watford', '1.0', '1.0', 'D', '2006-2007']\n",
      "['Reading', 'Manchester United', '1.0', '1.0', 'D', '2006-2007']\n",
      "['Newcastle United', 'Everton', '1.0', '1.0', 'D', '2006-2007']\n",
      "['Portsmouth', 'Bolton Wanderers', '0.0', '1.0', 'A', '2006-2007']\n",
      "['Bolton Wanderers', 'Liverpool', '2.0', '0.0', 'H', '2006-2007']\n",
      "['Charlton Athletic', 'Arsenal', '1.0', '2.0', 'A', '2006-2007']\n",
      "['Chelsea', 'Aston Villa', '1.0', '1.0', 'D', '2006-2007']\n",
      "['Everton', 'Manchester City', '1.0', '1.0', 'D', '2006-2007']\n",
      "['Sheffield United', 'Middlesbrough', '2.0', '1.0', 'H', '2006-2007']\n",
      "['West Ham United', 'Reading', '0.0', '1.0', 'A', '2006-2007']\n",
      "['Blackburn Rovers', 'Wigan Athletic', '2.0', '1.0', 'H', '2006-2007']\n",
      "['Manchester United', 'Newcastle United', '2.0', '0.0', 'H', '2006-2007']\n",
      "['Tottenham Hotspur', 'Portsmouth', '2.0', '1.0', 'H', '2006-2007']\n",
      "['Watford', 'Fulham', '3.0', '3.0', 'D', '2006-2007']\n",
      "['Wigan Athletic', 'Manchester United', '1.0', '3.0', 'A', '2006-2007']\n",
      "['Arsenal', 'Watford', '3.0', '0.0', 'H', '2006-2007']\n",
      "['Aston Villa', 'Tottenham Hotspur', '1.0', '1.0', 'D', '2006-2007']\n",
      "['Liverpool', 'Blackburn Rovers', '1.0', '1.0', 'D', '2006-2007']\n",
      "['Manchester City', 'Sheffield United', '0.0', '0.0', 'D', '2006-2007']\n",
      "['Middlesbrough', 'Everton', '2.0', '1.0', 'H', '2006-2007']\n",
      "['Portsmouth', 'West Ham United', '2.0', '0.0', 'H', '2006-2007']\n",
      "['Reading', 'Chelsea', '0.0', '1.0', 'A', '2006-2007']\n",
      "['Newcastle United', 'Bolton Wanderers', '1.0', '2.0', 'A', '2006-2007']\n",
      "['Fulham', 'Charlton Athletic', '2.0', '1.0', 'H', '2006-2007']\n",
      "['Wigan Athletic', 'Manchester City', '4.0', '0.0', 'H', '2006-2007']\n",
      "['Charlton Athletic', 'Watford', '0.0', '0.0', 'D', '2006-2007']\n",
      "['Chelsea', 'Portsmouth', '2.0', '1.0', 'H', '2006-2007']\n",
      "['Everton', 'Sheffield United', '2.0', '0.0', 'H', '2006-2007']\n",
      "['Aston Villa', 'Fulham', '1.0', '1.0', 'D', '2006-2007']\n",
      "['Manchester United', 'Liverpool', '2.0', '0.0', 'H', '2006-2007']\n",
      "['Blackburn Rovers', 'Bolton Wanderers', '0.0', '1.0', 'A', '2006-2007']\n",
      "['Middlesbrough', 'Newcastle United', '1.0', '0.0', 'H', '2006-2007']\n",
      "['Tottenham Hotspur', 'West Ham United', '1.0', '0.0', 'H', '2006-2007']\n",
      "['Reading', 'Arsenal', '0.0', '4.0', 'A', '2006-2007']\n",
      "['Sheffield United', 'Chelsea', '0.0', '2.0', 'A', '2006-2007']\n",
      "['Arsenal', 'Everton', '1.0', '1.0', 'D', '2006-2007']\n",
      "['Bolton Wanderers', 'Manchester United', '0.0', '4.0', 'A', '2006-2007']\n",
      "['Fulham', 'Wigan Athletic', '0.0', '1.0', 'A', '2006-2007']\n",
      "['Liverpool', 'Aston Villa', '3.0', '1.0', 'H', '2006-2007']\n",
      "['Portsmouth', 'Reading', '3.0', '1.0', 'H', '2006-2007']\n",
      "['Watford', 'Tottenham Hotspur', '0.0', '0.0', 'D', '2006-2007']\n",
      "['Newcastle United', 'Charlton Athletic', '0.0', '0.0', 'D', '2006-2007']\n",
      "['West Ham United', 'Blackburn Rovers', '2.0', '1.0', 'H', '2006-2007']\n",
      "['Manchester City', 'Middlesbrough', '1.0', '0.0', 'H', '2006-2007']\n",
      "['Fulham', 'Everton', '1.0', '0.0', 'H', '2006-2007']\n",
      "['Bolton Wanderers', 'Wigan Athletic', '0.0', '1.0', 'A', '2006-2007']\n",
      "['Charlton Athletic', 'Manchester City', '1.0', '0.0', 'H', '2006-2007']\n",
      "['Liverpool', 'Reading', '2.0', '0.0', 'H', '2006-2007']\n",
      "['Manchester United', 'Portsmouth', '3.0', '0.0', 'H', '2006-2007']\n",
      "['Watford', 'Middlesbrough', '2.0', '0.0', 'H', '2006-2007']\n",
      "['Newcastle United', 'Sheffield United', '0.0', '1.0', 'A', '2006-2007']\n",
      "['West Ham United', 'Arsenal', '1.0', '0.0', 'H', '2006-2007']\n",
      "['Aston Villa', 'Blackburn Rovers', '2.0', '0.0', 'H', '2006-2007']\n",
      "['Tottenham Hotspur', 'Chelsea', '2.0', '1.0', 'H', '2006-2007']\n",
      "['Manchester City', 'Newcastle United', '0.0', '0.0', 'D', '2006-2007']\n",
      "['Chelsea', 'Watford', '4.0', '0.0', 'H', '2006-2007']\n",
      "['Everton', 'Aston Villa', '0.0', '1.0', 'A', '2006-2007']\n",
      "['Middlesbrough', 'West Ham United', '1.0', '0.0', 'H', '2006-2007']\n",
      "['Portsmouth', 'Fulham', '1.0', '1.0', 'D', '2006-2007']\n",
      "['Sheffield United', 'Bolton Wanderers', '2.0', '2.0', 'D', '2006-2007']\n",
      "['Wigan Athletic', 'Charlton Athletic', '3.0', '2.0', 'H', '2006-2007']\n",
      "['Blackburn Rovers', 'Manchester United', '0.0', '1.0', 'A', '2006-2007']\n",
      "['Reading', 'Tottenham Hotspur', '3.0', '1.0', 'H', '2006-2007']\n",
      "['Arsenal', 'Liverpool', '3.0', '0.0', 'H', '2006-2007']\n",
      "['Manchester City', 'Fulham', '3.0', '1.0', 'H', '2006-2007']\n",
      "['Arsenal', 'Newcastle United', '1.0', '1.0', 'D', '2006-2007']\n",
      "['Chelsea', 'West Ham United', '1.0', '0.0', 'H', '2006-2007']\n",
      "['Everton', 'Bolton Wanderers', '1.0', '0.0', 'H', '2006-2007']\n",
      "['Portsmouth', 'Watford', '2.0', '1.0', 'H', '2006-2007']\n",
      "['Reading', 'Charlton Athletic', '2.0', '0.0', 'H', '2006-2007']\n",
      "['Sheffield United', 'Manchester United', '1.0', '2.0', 'A', '2006-2007']\n",
      "['Middlesbrough', 'Liverpool', '0.0', '0.0', 'D', '2006-2007']\n",
      "['Wigan Athletic', 'Aston Villa', '0.0', '0.0', 'D', '2006-2007']\n",
      "['Blackburn Rovers', 'Tottenham Hotspur', '1.0', '1.0', 'D', '2006-2007']\n",
      "['Charlton Athletic', 'Everton', '1.0', '1.0', 'D', '2006-2007']\n",
      "['Aston Villa', 'Middlesbrough', '1.0', '1.0', 'D', '2006-2007']\n",
      "['Fulham', 'Reading', '0.0', '1.0', 'A', '2006-2007']\n",
      "['Liverpool', 'Manchester City', '1.0', '0.0', 'H', '2006-2007']\n",
      "['West Ham United', 'Sheffield United', '1.0', '0.0', 'H', '2006-2007']\n",
      "['Bolton Wanderers', 'Arsenal', '3.0', '1.0', 'H', '2006-2007']\n",
      "['Newcastle United', 'Portsmouth', '1.0', '0.0', 'H', '2006-2007']\n",
      "['Tottenham Hotspur', 'Wigan Athletic', '3.0', '1.0', 'H', '2006-2007']\n",
      "['Manchester United', 'Chelsea', '1.0', '1.0', 'D', '2006-2007']\n",
      "['Watford', 'Sheffield United', '0.0', '1.0', 'A', '2006-2007']\n",
      "['Aston Villa', 'Manchester City', '1.0', '3.0', 'A', '2006-2007']\n",
      "['Fulham', 'Arsenal', '2.0', '1.0', 'H', '2006-2007']\n",
      "['Bolton Wanderers', 'Chelsea', '0.0', '1.0', 'A', '2006-2007']\n",
      "['Liverpool', 'Portsmouth', '0.0', '0.0', 'D', '2006-2007']\n",
      "['Manchester United', 'Everton', '3.0', '0.0', 'H', '2006-2007']\n",
      "['Arsenal', 'Tottenham Hotspur', '3.0', '0.0', 'H', '2006-2007']\n",
      "['Blackburn Rovers', 'Fulham', '2.0', '0.0', 'H', '2006-2007']\n",
      "['Portsmouth', 'Aston Villa', '2.0', '2.0', 'D', '2006-2007']\n",
      "['Reading', 'Bolton Wanderers', '1.0', '0.0', 'H', '2006-2007']\n",
      "['Sheffield United', 'Charlton Athletic', '2.0', '1.0', 'H', '2006-2007']\n",
      "['Wigan Athletic', 'Liverpool', '0.0', '4.0', 'A', '2006-2007']\n",
      "['Middlesbrough', 'Manchester United', '1.0', '2.0', 'A', '2006-2007']\n",
      "['Everton', 'West Ham United', '2.0', '0.0', 'H', '2006-2007']\n",
      "['Manchester City', 'Watford', '0.0', '0.0', 'D', '2006-2007']\n",
      "['Charlton Athletic', 'Blackburn Rovers', '1.0', '0.0', 'H', '2006-2007']\n",
      "['Tottenham Hotspur', 'Middlesbrough', '2.0', '1.0', 'H', '2006-2007']\n",
      "['Newcastle United', 'Reading', '3.0', '2.0', 'H', '2006-2007']\n",
      "['West Ham United', 'Wigan Athletic', '0.0', '2.0', 'A', '2006-2007']\n",
      "['Manchester United', 'Manchester City', '3.0', '1.0', 'H', '2006-2007']\n",
      "['Blackburn Rovers', 'Newcastle United', '1.0', '3.0', 'A', '2006-2007']\n",
      "['Liverpool', 'Fulham', '4.0', '0.0', 'H', '2006-2007']\n",
      "['Middlesbrough', 'Wigan Athletic', '1.0', '1.0', 'D', '2006-2007']\n",
      "['Portsmouth', 'Everton', '2.0', '0.0', 'H', '2006-2007']\n",
      "['Tottenham Hotspur', 'Charlton Athletic', '5.0', '1.0', 'H', '2006-2007']\n",
      "['Watford', 'Reading', '0.0', '0.0', 'D', '2006-2007']\n",
      "['Bolton Wanderers', 'West Ham United', '4.0', '0.0', 'H', '2006-2007']\n",
      "['Chelsea', 'Arsenal', '1.0', '1.0', 'D', '2006-2007']\n",
      "['Sheffield United', 'Aston Villa', '2.0', '2.0', 'D', '2006-2007']\n",
      "['Chelsea', 'Newcastle United', '1.0', '0.0', 'H', '2006-2007']\n",
      "['Wigan Athletic', 'Arsenal', '0.0', '1.0', 'A', '2006-2007']\n",
      "['Charlton Athletic', 'Liverpool', '0.0', '3.0', 'A', '2006-2007']\n",
      "['Arsenal', 'Portsmouth', '2.0', '2.0', 'D', '2006-2007']\n",
      "['Newcastle United', 'Watford', '2.0', '1.0', 'H', '2006-2007']\n",
      "['Reading', 'Blackburn Rovers', '1.0', '2.0', 'A', '2006-2007']\n",
      "['Wigan Athletic', 'Sheffield United', '0.0', '1.0', 'A', '2006-2007']\n",
      "['Aston Villa', 'Bolton Wanderers', '0.0', '1.0', 'A', '2006-2007']\n",
      "['Everton', 'Chelsea', '2.0', '3.0', 'A', '2006-2007']\n",
      "['Manchester City', 'Tottenham Hotspur', '1.0', '2.0', 'A', '2006-2007']\n",
      "['West Ham United', 'Manchester United', '1.0', '0.0', 'H', '2006-2007']\n",
      "['Fulham', 'Middlesbrough', '2.0', '1.0', 'H', '2006-2007']\n",
      "['Fulham', 'West Ham United', '0.0', '0.0', 'D', '2006-2007']\n",
      "['Arsenal', 'Blackburn Rovers', '6.0', '2.0', 'H', '2006-2007']\n",
      "['Aston Villa', 'Manchester United', '0.0', '3.0', 'A', '2006-2007']\n",
      "['Liverpool', 'Watford', '2.0', '0.0', 'H', '2006-2007']\n",
      "['Manchester City', 'Bolton Wanderers', '0.0', '2.0', 'A', '2006-2007']\n",
      "['Middlesbrough', 'Charlton Athletic', '2.0', '0.0', 'H', '2006-2007']\n",
      "['Newcastle United', 'Tottenham Hotspur', '3.0', '1.0', 'H', '2006-2007']\n",
      "['Portsmouth', 'Sheffield United', '3.0', '1.0', 'H', '2006-2007']\n",
      "['Reading', 'Everton', '0.0', '2.0', 'A', '2006-2007']\n",
      "['Wigan Athletic', 'Chelsea', '2.0', '3.0', 'A', '2006-2007']\n",
      "['Chelsea', 'Reading', '2.0', '2.0', 'D', '2006-2007']\n",
      "['Tottenham Hotspur', 'Aston Villa', '2.0', '1.0', 'H', '2006-2007']\n",
      "['West Ham United', 'Portsmouth', '1.0', '2.0', 'A', '2006-2007']\n",
      "['Blackburn Rovers', 'Liverpool', '1.0', '0.0', 'H', '2006-2007']\n",
      "['Bolton Wanderers', 'Newcastle United', '2.0', '1.0', 'H', '2006-2007']\n",
      "['Everton', 'Middlesbrough', '0.0', '0.0', 'D', '2006-2007']\n",
      "['Manchester United', 'Wigan Athletic', '3.0', '1.0', 'H', '2006-2007']\n",
      "['Sheffield United', 'Manchester City', '0.0', '1.0', 'A', '2006-2007']\n",
      "['Watford', 'Arsenal', '1.0', '2.0', 'A', '2006-2007']\n",
      "['Charlton Athletic', 'Fulham', '2.0', '2.0', 'D', '2006-2007']\n",
      "['Charlton Athletic', 'Aston Villa', '2.0', '1.0', 'H', '2006-2007']\n",
      "['Blackburn Rovers', 'Middlesbrough', '2.0', '1.0', 'H', '2006-2007']\n",
      "['Bolton Wanderers', 'Portsmouth', '3.0', '2.0', 'H', '2006-2007']\n",
      "['Chelsea', 'Fulham', '2.0', '2.0', 'D', '2006-2007']\n",
      "['Everton', 'Newcastle United', '3.0', '0.0', 'H', '2006-2007']\n",
      "['Manchester United', 'Reading', '3.0', '2.0', 'H', '2006-2007']\n",
      "['Tottenham Hotspur', 'Liverpool', '0.0', '1.0', 'A', '2006-2007']\n",
      "['West Ham United', 'Manchester City', '0.0', '1.0', 'A', '2006-2007']\n",
      "['Sheffield United', 'Arsenal', '1.0', '0.0', 'H', '2006-2007']\n",
      "['Liverpool', 'Bolton Wanderers', '3.0', '0.0', 'H', '2006-2007']\n",
      "['Fulham', 'Watford', '0.0', '0.0', 'D', '2006-2007']\n",
      "['Manchester City', 'Everton', '2.0', '1.0', 'H', '2006-2007']\n",
      "['Middlesbrough', 'Sheffield United', '3.0', '1.0', 'H', '2006-2007']\n",
      "['Portsmouth', 'Tottenham Hotspur', '1.0', '1.0', 'D', '2006-2007']\n",
      "['Reading', 'West Ham United', '6.0', '0.0', 'H', '2006-2007']\n",
      "['Wigan Athletic', 'Blackburn Rovers', '0.0', '3.0', 'A', '2006-2007']\n",
      "['Newcastle United', 'Manchester United', '2.0', '2.0', 'D', '2006-2007']\n",
      "['Arsenal', 'Charlton Athletic', '4.0', '0.0', 'H', '2006-2007']\n",
      "['Aston Villa', 'Chelsea', '0.0', '0.0', 'D', '2006-2007']\n",
      "['Watford', 'Liverpool', '0.0', '3.0', 'A', '2006-2007']\n",
      "['Bolton Wanderers', 'Manchester City', '0.0', '0.0', 'D', '2006-2007']\n",
      "['Charlton Athletic', 'Middlesbrough', '1.0', '3.0', 'A', '2006-2007']\n",
      "['Chelsea', 'Wigan Athletic', '4.0', '0.0', 'H', '2006-2007']\n",
      "['Manchester United', 'Aston Villa', '3.0', '1.0', 'H', '2006-2007']\n",
      "['Sheffield United', 'Portsmouth', '1.0', '1.0', 'D', '2006-2007']\n",
      "['West Ham United', 'Fulham', '3.0', '3.0', 'D', '2006-2007']\n",
      "['Blackburn Rovers', 'Arsenal', '0.0', '2.0', 'A', '2006-2007']\n",
      "['Everton', 'Reading', '1.0', '1.0', 'D', '2006-2007']\n",
      "['Tottenham Hotspur', 'Newcastle United', '2.0', '3.0', 'A', '2006-2007']\n",
      "['Liverpool', 'Chelsea', '2.0', '0.0', 'H', '2006-2007']\n",
      "['Aston Villa', 'Watford', '2.0', '0.0', 'H', '2006-2007']\n",
      "['Fulham', 'Tottenham Hotspur', '1.0', '1.0', 'D', '2006-2007']\n",
      "['Middlesbrough', 'Bolton Wanderers', '5.0', '1.0', 'H', '2006-2007']\n",
      "['Newcastle United', 'West Ham United', '2.0', '2.0', 'D', '2006-2007']\n",
      "['Portsmouth', 'Charlton Athletic', '0.0', '1.0', 'A', '2006-2007']\n",
      "['Reading', 'Sheffield United', '3.0', '1.0', 'H', '2006-2007']\n",
      "['Manchester City', 'Blackburn Rovers', '0.0', '3.0', 'A', '2006-2007']\n",
      "['Wigan Athletic', 'Everton', '0.0', '2.0', 'A', '2006-2007']\n",
      "['Arsenal', 'Manchester United', '2.0', '1.0', 'H', '2006-2007']\n",
      "['Watford', 'Blackburn Rovers', '2.0', '1.0', 'H', '2006-2007']\n",
      "['Portsmouth', 'Middlesbrough', '0.0', '0.0', 'D', '2006-2007']\n",
      "['Sheffield United', 'Fulham', '2.0', '0.0', 'H', '2006-2007']\n",
      "['West Ham United', 'Liverpool', '1.0', '2.0', 'A', '2006-2007']\n",
      "['Reading', 'Wigan Athletic', '3.0', '2.0', 'H', '2006-2007']\n",
      "['Chelsea', 'Blackburn Rovers', '3.0', '0.0', 'H', '2006-2007']\n",
      "['Bolton Wanderers', 'Charlton Athletic', '1.0', '1.0', 'D', '2006-2007']\n",
      "['Manchester United', 'Watford', '4.0', '0.0', 'H', '2006-2007']\n",
      "['Newcastle United', 'Aston Villa', '3.0', '1.0', 'H', '2006-2007']\n",
      "['Liverpool', 'Everton', '0.0', '0.0', 'D', '2006-2007']\n",
      "['Aston Villa', 'West Ham United', '1.0', '0.0', 'H', '2006-2007']\n",
      "['Blackburn Rovers', 'Sheffield United', '2.0', '1.0', 'H', '2006-2007']\n",
      "['Charlton Athletic', 'Chelsea', '0.0', '1.0', 'A', '2006-2007']\n",
      "['Fulham', 'Newcastle United', '2.0', '1.0', 'H', '2006-2007']\n",
      "['Manchester City', 'Reading', '0.0', '2.0', 'A', '2006-2007']\n",
      "['Watford', 'Bolton Wanderers', '0.0', '1.0', 'A', '2006-2007']\n",
      "['Wigan Athletic', 'Portsmouth', '1.0', '0.0', 'H', '2006-2007']\n",
      "['Middlesbrough', 'Arsenal', '1.0', '1.0', 'D', '2006-2007']\n",
      "['Tottenham Hotspur', 'Manchester United', '0.0', '4.0', 'A', '2006-2007']\n",
      "['Reading', 'Aston Villa', '2.0', '0.0', 'H', '2006-2007']\n",
      "['Chelsea', 'Middlesbrough', '3.0', '0.0', 'H', '2006-2007']\n",
      "['Everton', 'Blackburn Rovers', '1.0', '0.0', 'H', '2006-2007']\n",
      "['Manchester United', 'Charlton Athletic', '2.0', '0.0', 'H', '2006-2007']\n",
      "['Newcastle United', 'Liverpool', '2.0', '1.0', 'H', '2006-2007']\n",
      "['Sheffield United', 'Tottenham Hotspur', '2.0', '1.0', 'H', '2006-2007']\n",
      "['West Ham United', 'Watford', '0.0', '1.0', 'A', '2006-2007']\n",
      "['Portsmouth', 'Manchester City', '2.0', '1.0', 'H', '2006-2007']\n",
      "['Bolton Wanderers', 'Fulham', '2.0', '1.0', 'H', '2006-2007']\n",
      "['Arsenal', 'Wigan Athletic', '2.0', '1.0', 'H', '2006-2007']\n",
      "['Watford', 'Wigan Athletic', '1.0', '1.0', 'D', '2006-2007']\n",
      "['Everton', 'Tottenham Hotspur', '1.0', '2.0', 'A', '2006-2007']\n",
      "['Fulham', 'Manchester United', '1.0', '2.0', 'A', '2006-2007']\n",
      "['Charlton Athletic', 'West Ham United', '4.0', '0.0', 'H', '2006-2007']\n",
      "['Liverpool', 'Sheffield United', '4.0', '0.0', 'H', '2006-2007']\n",
      "['Middlesbrough', 'Reading', '2.0', '1.0', 'H', '2006-2007']\n",
      "['Watford', 'Everton', '0.0', '3.0', 'A', '2006-2007']\n",
      "['Wigan Athletic', 'Newcastle United', '1.0', '0.0', 'H', '2006-2007']\n",
      "['Blackburn Rovers', 'Portsmouth', '3.0', '0.0', 'H', '2006-2007']\n",
      "['Tottenham Hotspur', 'Bolton Wanderers', '4.0', '1.0', 'H', '2006-2007']\n",
      "['Liverpool', 'Manchester United', '0.0', '1.0', 'A', '2006-2007']\n",
      "['Arsenal', 'Reading', '2.0', '1.0', 'H', '2006-2007']\n",
      "['Fulham', 'Aston Villa', '1.0', '1.0', 'D', '2006-2007']\n",
      "['Manchester City', 'Wigan Athletic', '0.0', '1.0', 'A', '2006-2007']\n",
      "['Newcastle United', 'Middlesbrough', '0.0', '0.0', 'D', '2006-2007']\n",
      "['Sheffield United', 'Everton', '1.0', '1.0', 'D', '2006-2007']\n",
      "['Watford', 'Charlton Athletic', '2.0', '2.0', 'D', '2006-2007']\n",
      "['Portsmouth', 'Chelsea', '0.0', '2.0', 'A', '2006-2007']\n",
      "['Bolton Wanderers', 'Blackburn Rovers', '1.0', '2.0', 'A', '2006-2007']\n",
      "['West Ham United', 'Tottenham Hotspur', '3.0', '4.0', 'A', '2006-2007']\n",
      "['Aston Villa', 'Arsenal', '0.0', '1.0', 'A', '2006-2007']\n",
      "['Manchester City', 'Chelsea', '0.0', '1.0', 'A', '2006-2007']\n",
      "['Manchester United', 'Bolton Wanderers', '4.0', '1.0', 'H', '2006-2007']\n",
      "['Chelsea', 'Sheffield United', '3.0', '0.0', 'H', '2006-2007']\n",
      "['Middlesbrough', 'Manchester City', '0.0', '2.0', 'A', '2006-2007']\n",
      "['Reading', 'Portsmouth', '0.0', '0.0', 'D', '2006-2007']\n",
      "['Tottenham Hotspur', 'Watford', '3.0', '1.0', 'H', '2006-2007']\n",
      "['Wigan Athletic', 'Fulham', '0.0', '0.0', 'D', '2006-2007']\n",
      "['Blackburn Rovers', 'West Ham United', '1.0', '2.0', 'A', '2006-2007']\n",
      "['Charlton Athletic', 'Newcastle United', '2.0', '0.0', 'H', '2006-2007']\n",
      "['Aston Villa', 'Liverpool', '0.0', '0.0', 'D', '2006-2007']\n",
      "['Everton', 'Arsenal', '1.0', '0.0', 'H', '2006-2007']\n",
      "['Liverpool', 'Arsenal', '4.0', '1.0', 'H', '2006-2007']\n",
      "['Bolton Wanderers', 'Sheffield United', '1.0', '0.0', 'H', '2006-2007']\n",
      "['Charlton Athletic', 'Wigan Athletic', '1.0', '0.0', 'H', '2006-2007']\n",
      "['Fulham', 'Portsmouth', '1.0', '1.0', 'D', '2006-2007']\n",
      "['Manchester United', 'Blackburn Rovers', '4.0', '1.0', 'H', '2006-2007']\n",
      "['Newcastle United', 'Manchester City', '0.0', '1.0', 'A', '2006-2007']\n",
      "['West Ham United', 'Middlesbrough', '2.0', '0.0', 'H', '2006-2007']\n",
      "['Watford', 'Chelsea', '0.0', '1.0', 'A', '2006-2007']\n",
      "['Tottenham Hotspur', 'Reading', '1.0', '0.0', 'H', '2006-2007']\n",
      "['Aston Villa', 'Everton', '1.0', '1.0', 'D', '2006-2007']\n",
      "['Manchester City', 'Charlton Athletic', '0.0', '0.0', 'D', '2006-2007']\n",
      "['Everton', 'Fulham', '4.0', '1.0', 'H', '2006-2007']\n",
      "['Chelsea', 'Tottenham Hotspur', '1.0', '0.0', 'H', '2006-2007']\n",
      "['Arsenal', 'West Ham United', '0.0', '1.0', 'A', '2006-2007']\n",
      "['Blackburn Rovers', 'Aston Villa', '1.0', '2.0', 'A', '2006-2007']\n",
      "['Middlesbrough', 'Watford', '4.0', '1.0', 'H', '2006-2007']\n",
      "['Reading', 'Liverpool', '1.0', '2.0', 'A', '2006-2007']\n",
      "['Sheffield United', 'Newcastle United', '1.0', '2.0', 'A', '2006-2007']\n",
      "['Wigan Athletic', 'Bolton Wanderers', '1.0', '3.0', 'A', '2006-2007']\n",
      "['Portsmouth', 'Manchester United', '2.0', '1.0', 'H', '2006-2007']\n",
      "['Watford', 'Portsmouth', '4.0', '2.0', 'H', '2006-2007']\n",
      "['Aston Villa', 'Wigan Athletic', '1.0', '1.0', 'D', '2006-2007']\n",
      "['Bolton Wanderers', 'Everton', '1.0', '1.0', 'D', '2006-2007']\n",
      "['Fulham', 'Manchester City', '1.0', '3.0', 'A', '2006-2007']\n",
      "['Newcastle United', 'Arsenal', '0.0', '0.0', 'D', '2006-2007']\n",
      "['Charlton Athletic', 'Reading', '0.0', '0.0', 'D', '2006-2007']\n",
      "['Arsenal', 'Bolton Wanderers', '2.0', '1.0', 'H', '2006-2007']\n",
      "['Manchester City', 'Liverpool', '0.0', '0.0', 'D', '2006-2007']\n",
      "['Middlesbrough', 'Aston Villa', '1.0', '3.0', 'A', '2006-2007']\n",
      "['Portsmouth', 'Newcastle United', '2.0', '1.0', 'H', '2006-2007']\n",
      "['Reading', 'Fulham', '1.0', '0.0', 'H', '2006-2007']\n",
      "['Sheffield United', 'West Ham United', '3.0', '0.0', 'H', '2006-2007']\n",
      "['Wigan Athletic', 'Tottenham Hotspur', '3.0', '3.0', 'D', '2006-2007']\n",
      "['Everton', 'Charlton Athletic', '2.0', '1.0', 'H', '2006-2007']\n",
      "['Arsenal', 'Manchester City', '3.0', '1.0', 'H', '2006-2007']\n",
      "['Manchester United', 'Sheffield United', '2.0', '0.0', 'H', '2006-2007']\n",
      "['Blackburn Rovers', 'Watford', '3.0', '1.0', 'H', '2006-2007']\n",
      "['Liverpool', 'Middlesbrough', '2.0', '0.0', 'H', '2006-2007']\n",
      "['West Ham United', 'Chelsea', '1.0', '4.0', 'A', '2006-2007']\n",
      "['Tottenham Hotspur', 'Arsenal', '2.0', '2.0', 'D', '2006-2007']\n",
      "['Bolton Wanderers', 'Reading', '1.0', '3.0', 'A', '2006-2007']\n",
      "['Charlton Athletic', 'Sheffield United', '1.0', '1.0', 'D', '2006-2007']\n",
      "['Fulham', 'Blackburn Rovers', '1.0', '1.0', 'D', '2006-2007']\n",
      "['Liverpool', 'Wigan Athletic', '2.0', '0.0', 'H', '2006-2007']\n",
      "['Watford', 'Manchester City', '1.0', '1.0', 'D', '2006-2007']\n",
      "['West Ham United', 'Everton', '1.0', '0.0', 'H', '2006-2007']\n",
      "['Manchester United', 'Middlesbrough', '1.0', '1.0', 'D', '2006-2007']\n",
      "['Newcastle United', 'Chelsea', '0.0', '0.0', 'D', '2006-2007']\n",
      "['Aston Villa', 'Portsmouth', '0.0', '0.0', 'D', '2006-2007']\n",
      "['Chelsea', 'Bolton Wanderers', '2.0', '2.0', 'D', '2006-2007']\n",
      "['Everton', 'Manchester United', '2.0', '4.0', 'A', '2006-2007']\n",
      "['Blackburn Rovers', 'Charlton Athletic', '4.0', '1.0', 'H', '2006-2007']\n",
      "['Manchester City', 'Aston Villa', '0.0', '2.0', 'A', '2006-2007']\n",
      "['Middlesbrough', 'Tottenham Hotspur', '2.0', '3.0', 'A', '2006-2007']\n",
      "['Portsmouth', 'Liverpool', '2.0', '1.0', 'H', '2006-2007']\n",
      "['Sheffield United', 'Watford', '1.0', '0.0', 'H', '2006-2007']\n",
      "['Wigan Athletic', 'West Ham United', '0.0', '3.0', 'A', '2006-2007']\n",
      "['Arsenal', 'Fulham', '3.0', '1.0', 'H', '2006-2007']\n",
      "['Reading', 'Newcastle United', '1.0', '0.0', 'H', '2006-2007']\n",
      "['Manchester City', 'Manchester United', '0.0', '1.0', 'A', '2006-2007']\n",
      "['Everton', 'Portsmouth', '3.0', '0.0', 'H', '2006-2007']\n",
      "['Fulham', 'Liverpool', '1.0', '0.0', 'H', '2006-2007']\n",
      "['Newcastle United', 'Blackburn Rovers', '0.0', '2.0', 'A', '2006-2007']\n",
      "['Reading', 'Watford', '0.0', '2.0', 'A', '2006-2007']\n",
      "['West Ham United', 'Bolton Wanderers', '3.0', '1.0', 'H', '2006-2007']\n",
      "['Wigan Athletic', 'Middlesbrough', '0.0', '1.0', 'A', '2006-2007']\n",
      "['Aston Villa', 'Sheffield United', '3.0', '0.0', 'H', '2006-2007']\n",
      "['Arsenal', 'Chelsea', '1.0', '1.0', 'D', '2006-2007']\n",
      "['Charlton Athletic', 'Tottenham Hotspur', '0.0', '2.0', 'A', '2006-2007']\n",
      "['Chelsea', 'Manchester United', '0.0', '0.0', 'D', '2006-2007']\n",
      "['Tottenham Hotspur', 'Blackburn Rovers', '1.0', '1.0', 'D', '2006-2007']\n",
      "['Blackburn Rovers', 'Reading', '3.0', '3.0', 'D', '2006-2007']\n",
      "['Bolton Wanderers', 'Aston Villa', '2.0', '2.0', 'D', '2006-2007']\n",
      "['Chelsea', 'Everton', '1.0', '1.0', 'D', '2006-2007']\n",
      "['Liverpool', 'Charlton Athletic', '2.0', '2.0', 'D', '2006-2007']\n",
      "['Manchester United', 'West Ham United', '0.0', '1.0', 'A', '2006-2007']\n",
      "['Middlesbrough', 'Fulham', '3.0', '1.0', 'H', '2006-2007']\n",
      "['Portsmouth', 'Arsenal', '0.0', '0.0', 'D', '2006-2007']\n",
      "['Sheffield United', 'Wigan Athletic', '1.0', '2.0', 'A', '2006-2007']\n",
      "['Tottenham Hotspur', 'Manchester City', '2.0', '1.0', 'H', '2006-2007']\n",
      "['Watford', 'Newcastle United', '1.0', '1.0', 'D', '2006-2007']\n"
     ]
    }
   ],
   "source": [
    "for i in record:\n",
    "    if i[-1] == '2006-2007':\n",
    "        print(i)"
   ]
  },
  {
   "cell_type": "code",
   "execution_count": 8,
   "id": "8fdb3f19",
   "metadata": {},
   "outputs": [
    {
     "name": "stdout",
     "output_type": "stream",
     "text": [
      "['Manchester United', 'Fulham', '5.0', '1.0', 'H', '2006-2007']\n",
      "['Manchester United', 'Tottenham Hotspur', '1.0', '0.0', 'H', '2006-2007']\n",
      "['Manchester United', 'Arsenal', '0.0', '1.0', 'A', '2006-2007']\n",
      "['Manchester United', 'Newcastle United', '2.0', '0.0', 'H', '2006-2007']\n",
      "['Manchester United', 'Liverpool', '2.0', '0.0', 'H', '2006-2007']\n",
      "['Manchester United', 'Portsmouth', '3.0', '0.0', 'H', '2006-2007']\n",
      "['Manchester United', 'Chelsea', '1.0', '1.0', 'D', '2006-2007']\n",
      "['Manchester United', 'Everton', '3.0', '0.0', 'H', '2006-2007']\n",
      "['Manchester United', 'Manchester City', '3.0', '1.0', 'H', '2006-2007']\n",
      "['Manchester United', 'Wigan Athletic', '3.0', '1.0', 'H', '2006-2007']\n",
      "['Manchester United', 'Reading', '3.0', '2.0', 'H', '2006-2007']\n",
      "['Manchester United', 'Aston Villa', '3.0', '1.0', 'H', '2006-2007']\n",
      "['Manchester United', 'Watford', '4.0', '0.0', 'H', '2006-2007']\n",
      "['Manchester United', 'Charlton Athletic', '2.0', '0.0', 'H', '2006-2007']\n",
      "['Manchester United', 'Bolton Wanderers', '4.0', '1.0', 'H', '2006-2007']\n",
      "['Manchester United', 'Blackburn Rovers', '4.0', '1.0', 'H', '2006-2007']\n",
      "['Manchester United', 'Sheffield United', '2.0', '0.0', 'H', '2006-2007']\n",
      "['Manchester United', 'Middlesbrough', '1.0', '1.0', 'D', '2006-2007']\n",
      "['Manchester United', 'West Ham United', '0.0', '1.0', 'A', '2006-2007']\n"
     ]
    }
   ],
   "source": [
    "for i in record:\n",
    "    if i[-1] == '2006-2007' and i[0] == \"Manchester United\":\n",
    "        print(i)"
   ]
  },
  {
   "cell_type": "code",
   "execution_count": 9,
   "id": "6ff8c5fa",
   "metadata": {},
   "outputs": [],
   "source": [
    "man_utd_record = []\n",
    "\n",
    "for i in record:\n",
    "    if i[-1] == '2006-2007' and i[0] == \"Manchester United\":\n",
    "        man_utd_record.append(i)"
   ]
  },
  {
   "cell_type": "code",
   "execution_count": 10,
   "id": "f738eb2d",
   "metadata": {},
   "outputs": [
    {
     "data": {
      "text/plain": [
       "[['Manchester United', 'Fulham', '5.0', '1.0', 'H', '2006-2007'],\n",
       " ['Manchester United', 'Tottenham Hotspur', '1.0', '0.0', 'H', '2006-2007'],\n",
       " ['Manchester United', 'Arsenal', '0.0', '1.0', 'A', '2006-2007'],\n",
       " ['Manchester United', 'Newcastle United', '2.0', '0.0', 'H', '2006-2007'],\n",
       " ['Manchester United', 'Liverpool', '2.0', '0.0', 'H', '2006-2007'],\n",
       " ['Manchester United', 'Portsmouth', '3.0', '0.0', 'H', '2006-2007'],\n",
       " ['Manchester United', 'Chelsea', '1.0', '1.0', 'D', '2006-2007'],\n",
       " ['Manchester United', 'Everton', '3.0', '0.0', 'H', '2006-2007'],\n",
       " ['Manchester United', 'Manchester City', '3.0', '1.0', 'H', '2006-2007'],\n",
       " ['Manchester United', 'Wigan Athletic', '3.0', '1.0', 'H', '2006-2007'],\n",
       " ['Manchester United', 'Reading', '3.0', '2.0', 'H', '2006-2007'],\n",
       " ['Manchester United', 'Aston Villa', '3.0', '1.0', 'H', '2006-2007'],\n",
       " ['Manchester United', 'Watford', '4.0', '0.0', 'H', '2006-2007'],\n",
       " ['Manchester United', 'Charlton Athletic', '2.0', '0.0', 'H', '2006-2007'],\n",
       " ['Manchester United', 'Bolton Wanderers', '4.0', '1.0', 'H', '2006-2007'],\n",
       " ['Manchester United', 'Blackburn Rovers', '4.0', '1.0', 'H', '2006-2007'],\n",
       " ['Manchester United', 'Sheffield United', '2.0', '0.0', 'H', '2006-2007'],\n",
       " ['Manchester United', 'Middlesbrough', '1.0', '1.0', 'D', '2006-2007'],\n",
       " ['Manchester United', 'West Ham United', '0.0', '1.0', 'A', '2006-2007']]"
      ]
     },
     "execution_count": 10,
     "metadata": {},
     "output_type": "execute_result"
    }
   ],
   "source": [
    "man_utd_record"
   ]
  },
  {
   "cell_type": "code",
   "execution_count": 11,
   "id": "779a1638",
   "metadata": {},
   "outputs": [],
   "source": [
    "man_utd = {}"
   ]
  },
  {
   "cell_type": "code",
   "execution_count": 14,
   "id": "499ab8bb",
   "metadata": {},
   "outputs": [
    {
     "data": {
      "text/plain": [
       "{'2006-2007': [['Man Utd Record 2006-2007']],\n",
       " '2007-2008': [['Man Utd Record 2007-2008']]}"
      ]
     },
     "execution_count": 14,
     "metadata": {},
     "output_type": "execute_result"
    }
   ],
   "source": [
    "{\"2006-2007\": [[\"Man Utd Record 2006-2007\"]],\"2007-2008\": [[\"Man Utd Record 2007-2008\"]]}"
   ]
  },
  {
   "cell_type": "code",
   "execution_count": 15,
   "id": "2aed68f6",
   "metadata": {},
   "outputs": [],
   "source": [
    "man_utd[\"2006-2007\"] = man_utd_record"
   ]
  },
  {
   "cell_type": "code",
   "execution_count": 16,
   "id": "708f6ae9",
   "metadata": {},
   "outputs": [
    {
     "data": {
      "text/plain": [
       "{'2006-2007': [['Manchester United', 'Fulham', '5.0', '1.0', 'H', '2006-2007'],\n",
       "  ['Manchester United', 'Tottenham Hotspur', '1.0', '0.0', 'H', '2006-2007'],\n",
       "  ['Manchester United', 'Arsenal', '0.0', '1.0', 'A', '2006-2007'],\n",
       "  ['Manchester United', 'Newcastle United', '2.0', '0.0', 'H', '2006-2007'],\n",
       "  ['Manchester United', 'Liverpool', '2.0', '0.0', 'H', '2006-2007'],\n",
       "  ['Manchester United', 'Portsmouth', '3.0', '0.0', 'H', '2006-2007'],\n",
       "  ['Manchester United', 'Chelsea', '1.0', '1.0', 'D', '2006-2007'],\n",
       "  ['Manchester United', 'Everton', '3.0', '0.0', 'H', '2006-2007'],\n",
       "  ['Manchester United', 'Manchester City', '3.0', '1.0', 'H', '2006-2007'],\n",
       "  ['Manchester United', 'Wigan Athletic', '3.0', '1.0', 'H', '2006-2007'],\n",
       "  ['Manchester United', 'Reading', '3.0', '2.0', 'H', '2006-2007'],\n",
       "  ['Manchester United', 'Aston Villa', '3.0', '1.0', 'H', '2006-2007'],\n",
       "  ['Manchester United', 'Watford', '4.0', '0.0', 'H', '2006-2007'],\n",
       "  ['Manchester United', 'Charlton Athletic', '2.0', '0.0', 'H', '2006-2007'],\n",
       "  ['Manchester United', 'Bolton Wanderers', '4.0', '1.0', 'H', '2006-2007'],\n",
       "  ['Manchester United', 'Blackburn Rovers', '4.0', '1.0', 'H', '2006-2007'],\n",
       "  ['Manchester United', 'Sheffield United', '2.0', '0.0', 'H', '2006-2007'],\n",
       "  ['Manchester United', 'Middlesbrough', '1.0', '1.0', 'D', '2006-2007'],\n",
       "  ['Manchester United', 'West Ham United', '0.0', '1.0', 'A', '2006-2007']]}"
      ]
     },
     "execution_count": 16,
     "metadata": {},
     "output_type": "execute_result"
    }
   ],
   "source": [
    "man_utd"
   ]
  },
  {
   "cell_type": "code",
   "execution_count": 21,
   "id": "cc044447",
   "metadata": {},
   "outputs": [],
   "source": [
    "club = {}\n",
    "\n",
    "for s in season: # s = '2007-2008'\n",
    "    club_record = []\n",
    "    for i in record:\n",
    "        if i[-1] == s and i[0] == \"Manchester United\":\n",
    "            club_record.append(i)\n",
    "    club[s] = club_record"
   ]
  },
  {
   "cell_type": "code",
   "execution_count": 22,
   "id": "9cef1b3c",
   "metadata": {},
   "outputs": [
    {
     "data": {
      "text/plain": [
       "dict_keys(['2006-2007', '2007-2008', '2008-2009', '2009-2010', '2010-2011', '2011-2012', '2012-2013', '2013-2014', '2014-2015', '2015-2016', '2016-2017', '2017-2018'])"
      ]
     },
     "execution_count": 22,
     "metadata": {},
     "output_type": "execute_result"
    }
   ],
   "source": [
    "club.keys()"
   ]
  },
  {
   "cell_type": "code",
   "execution_count": 23,
   "id": "979e6e90",
   "metadata": {},
   "outputs": [
    {
     "data": {
      "text/plain": [
       "[['Manchester United', 'Southampton', '2.0', '0.0', 'H', '2016-2017'],\n",
       " ['Manchester United', 'Manchester City', '1.0', '2.0', 'A', '2016-2017'],\n",
       " ['Manchester United', 'Leicester City', '4.0', '1.0', 'H', '2016-2017'],\n",
       " ['Manchester United', 'Stoke City', '1.0', '1.0', 'D', '2016-2017'],\n",
       " ['Manchester United', 'Burnley', '0.0', '0.0', 'D', '2016-2017'],\n",
       " ['Manchester United', 'Arsenal', '1.0', '1.0', 'D', '2016-2017'],\n",
       " ['Manchester United', 'West Ham United', '1.0', '1.0', 'D', '2016-2017'],\n",
       " ['Manchester United', 'Tottenham Hotspur', '1.0', '0.0', 'H', '2016-2017'],\n",
       " ['Manchester United', 'Sunderland', '3.0', '1.0', 'H', '2016-2017'],\n",
       " ['Manchester United', 'Middlesbrough', '2.0', '1.0', 'H', '2016-2017'],\n",
       " ['Manchester United', 'Liverpool', '1.0', '1.0', 'D', '2016-2017'],\n",
       " ['Manchester United', 'Hull City', '0.0', '0.0', 'D', '2016-2017'],\n",
       " ['Manchester United', 'Watford', '2.0', '0.0', 'H', '2016-2017'],\n",
       " ['Manchester United', 'AFC Bournemouth', '1.0', '1.0', 'D', '2016-2017'],\n",
       " ['Manchester United', 'West Bromwich Albion', '0.0', '0.0', 'D', '2016-2017'],\n",
       " ['Manchester United', 'Everton', '1.0', '1.0', 'D', '2016-2017'],\n",
       " ['Manchester United', 'Chelsea', '2.0', '0.0', 'H', '2016-2017'],\n",
       " ['Manchester United', 'Swansea City', '1.0', '1.0', 'D', '2016-2017'],\n",
       " ['Manchester United', 'Crystal Palace', '2.0', '0.0', 'H', '2016-2017']]"
      ]
     },
     "execution_count": 23,
     "metadata": {},
     "output_type": "execute_result"
    }
   ],
   "source": [
    "club[\"2016-2017\"]"
   ]
  },
  {
   "cell_type": "code",
   "execution_count": 26,
   "id": "11edeb0e",
   "metadata": {},
   "outputs": [
    {
     "data": {
      "text/plain": [
       "[['Manchester United', 'Fulham', '5.0', '1.0', 'H', '2006-2007'],\n",
       " ['Manchester United', 'Tottenham Hotspur', '1.0', '0.0', 'H', '2006-2007'],\n",
       " ['Manchester United', 'Arsenal', '0.0', '1.0', 'A', '2006-2007'],\n",
       " ['Manchester United', 'Newcastle United', '2.0', '0.0', 'H', '2006-2007'],\n",
       " ['Manchester United', 'Liverpool', '2.0', '0.0', 'H', '2006-2007'],\n",
       " ['Manchester United', 'Portsmouth', '3.0', '0.0', 'H', '2006-2007'],\n",
       " ['Manchester United', 'Chelsea', '1.0', '1.0', 'D', '2006-2007'],\n",
       " ['Manchester United', 'Everton', '3.0', '0.0', 'H', '2006-2007'],\n",
       " ['Manchester United', 'Manchester City', '3.0', '1.0', 'H', '2006-2007'],\n",
       " ['Manchester United', 'Wigan Athletic', '3.0', '1.0', 'H', '2006-2007'],\n",
       " ['Manchester United', 'Reading', '3.0', '2.0', 'H', '2006-2007'],\n",
       " ['Manchester United', 'Aston Villa', '3.0', '1.0', 'H', '2006-2007'],\n",
       " ['Manchester United', 'Watford', '4.0', '0.0', 'H', '2006-2007'],\n",
       " ['Manchester United', 'Charlton Athletic', '2.0', '0.0', 'H', '2006-2007'],\n",
       " ['Manchester United', 'Bolton Wanderers', '4.0', '1.0', 'H', '2006-2007'],\n",
       " ['Manchester United', 'Blackburn Rovers', '4.0', '1.0', 'H', '2006-2007'],\n",
       " ['Manchester United', 'Sheffield United', '2.0', '0.0', 'H', '2006-2007'],\n",
       " ['Manchester United', 'Middlesbrough', '1.0', '1.0', 'D', '2006-2007'],\n",
       " ['Manchester United', 'West Ham United', '0.0', '1.0', 'A', '2006-2007']]"
      ]
     },
     "execution_count": 26,
     "metadata": {},
     "output_type": "execute_result"
    }
   ],
   "source": [
    "club[\"2006-2007\"]"
   ]
  },
  {
   "cell_type": "code",
   "execution_count": 27,
   "id": "02459702",
   "metadata": {},
   "outputs": [
    {
     "name": "stdout",
     "output_type": "stream",
     "text": [
      "D\n",
      "H\n",
      "H\n",
      "H\n",
      "H\n",
      "H\n",
      "H\n",
      "H\n",
      "H\n",
      "H\n",
      "H\n",
      "H\n",
      "H\n",
      "A\n",
      "H\n",
      "H\n",
      "H\n",
      "H\n",
      "D\n"
     ]
    }
   ],
   "source": [
    "home_stadium = {\"2008-2009\":0}\n",
    "\n",
    "for i in club[\"2008-2009\"]:\n",
    "    print(i[-2])"
   ]
  },
  {
   "cell_type": "code",
   "execution_count": 28,
   "id": "9c1ae094",
   "metadata": {},
   "outputs": [],
   "source": [
    "home_stadium = {\"2008-2009\":0}\n",
    "\n",
    "for i in club[\"2008-2009\"]:\n",
    "    if i[-2] == \"D\":\n",
    "        home_stadium[\"2008-2009\"] += 1\n",
    "    elif i[-2] == \"H\":\n",
    "        home_stadium[\"2008-2009\"] += 3"
   ]
  },
  {
   "cell_type": "code",
   "execution_count": 29,
   "id": "1b190204",
   "metadata": {},
   "outputs": [
    {
     "data": {
      "text/plain": [
       "{'2008-2009': 50}"
      ]
     },
     "execution_count": 29,
     "metadata": {},
     "output_type": "execute_result"
    }
   ],
   "source": [
    "home_stadium"
   ]
  },
  {
   "cell_type": "code",
   "execution_count": 32,
   "id": "0b68d86d",
   "metadata": {},
   "outputs": [],
   "source": [
    "home_stadium = {}\n",
    "\n",
    "for s in season:\n",
    "    if s not in home_stadium:\n",
    "        home_stadium[s] = 0"
   ]
  },
  {
   "cell_type": "code",
   "execution_count": 33,
   "id": "45fe46ad",
   "metadata": {},
   "outputs": [
    {
     "data": {
      "text/plain": [
       "{'2006-2007': 0,\n",
       " '2007-2008': 0,\n",
       " '2008-2009': 0,\n",
       " '2009-2010': 0,\n",
       " '2010-2011': 0,\n",
       " '2011-2012': 0,\n",
       " '2012-2013': 0,\n",
       " '2013-2014': 0,\n",
       " '2014-2015': 0,\n",
       " '2015-2016': 0,\n",
       " '2016-2017': 0,\n",
       " '2017-2018': 0}"
      ]
     },
     "execution_count": 33,
     "metadata": {},
     "output_type": "execute_result"
    }
   ],
   "source": [
    "home_stadium"
   ]
  },
  {
   "cell_type": "code",
   "execution_count": 34,
   "id": "194e73d9",
   "metadata": {},
   "outputs": [
    {
     "data": {
      "text/plain": [
       "['2006-2007',\n",
       " '2007-2008',\n",
       " '2008-2009',\n",
       " '2009-2010',\n",
       " '2010-2011',\n",
       " '2011-2012',\n",
       " '2012-2013',\n",
       " '2013-2014',\n",
       " '2014-2015',\n",
       " '2015-2016',\n",
       " '2016-2017',\n",
       " '2017-2018']"
      ]
     },
     "execution_count": 34,
     "metadata": {},
     "output_type": "execute_result"
    }
   ],
   "source": [
    "season"
   ]
  },
  {
   "cell_type": "code",
   "execution_count": 129,
   "id": "fc06eadf",
   "metadata": {},
   "outputs": [],
   "source": [
    "home_stadium = {}\n",
    "\n",
    "for s in season:\n",
    "    if s not in home_stadium:\n",
    "        home_stadium[s] = 0\n",
    "\n",
    "for s in season:\n",
    "    for i in club[s]:\n",
    "        if i[-2] == \"D\":\n",
    "            home_stadium[s] += 1\n",
    "        elif i[-2] == \"H\":\n",
    "            home_stadium[s] += 3"
   ]
  },
  {
   "cell_type": "code",
   "execution_count": 130,
   "id": "67586578",
   "metadata": {},
   "outputs": [
    {
     "data": {
      "text/plain": [
       "{'2006-2007': 47,\n",
       " '2007-2008': 52,\n",
       " '2008-2009': 50,\n",
       " '2009-2010': 49,\n",
       " '2010-2011': 55,\n",
       " '2011-2012': 47,\n",
       " '2012-2013': 48,\n",
       " '2013-2014': 30,\n",
       " '2014-2015': 44,\n",
       " '2015-2016': 41,\n",
       " '2016-2017': 34,\n",
       " '2017-2018': 47}"
      ]
     },
     "execution_count": 130,
     "metadata": {},
     "output_type": "execute_result"
    }
   ],
   "source": [
    "home_stadium"
   ]
  },
  {
   "cell_type": "code",
   "execution_count": 131,
   "id": "8e836930",
   "metadata": {},
   "outputs": [
    {
     "data": {
      "text/plain": [
       "dict_keys(['2006-2007', '2007-2008', '2008-2009', '2009-2010', '2010-2011', '2011-2012', '2012-2013', '2013-2014', '2014-2015', '2015-2016', '2016-2017', '2017-2018'])"
      ]
     },
     "execution_count": 131,
     "metadata": {},
     "output_type": "execute_result"
    }
   ],
   "source": [
    "home_stadium.keys()"
   ]
  },
  {
   "cell_type": "code",
   "execution_count": 132,
   "id": "bb700838",
   "metadata": {},
   "outputs": [
    {
     "data": {
      "text/plain": [
       "dict_values([47, 52, 50, 49, 55, 47, 48, 30, 44, 41, 34, 47])"
      ]
     },
     "execution_count": 132,
     "metadata": {},
     "output_type": "execute_result"
    }
   ],
   "source": [
    "home_stadium.values()"
   ]
  },
  {
   "cell_type": "code",
   "execution_count": 133,
   "id": "ad3b456b",
   "metadata": {},
   "outputs": [
    {
     "data": {
      "text/plain": [
       "dict_values([47, 52, 50, 49, 55, 47, 48, 30, 44, 41, 34, 47])"
      ]
     },
     "execution_count": 133,
     "metadata": {},
     "output_type": "execute_result"
    }
   ],
   "source": [
    "points = home_stadium.values()\n",
    "points"
   ]
  },
  {
   "cell_type": "code",
   "execution_count": 136,
   "id": "23c9aab1",
   "metadata": {},
   "outputs": [
    {
     "data": {
      "text/plain": [
       "45"
      ]
     },
     "execution_count": 136,
     "metadata": {},
     "output_type": "execute_result"
    }
   ],
   "source": [
    "avg_points_decade = round(sum(points)/len(points))\n",
    "avg_points_decade"
   ]
  },
  {
   "cell_type": "code",
   "execution_count": null,
   "id": "eabec49f",
   "metadata": {},
   "outputs": [],
   "source": []
  },
  {
   "cell_type": "code",
   "execution_count": 137,
   "id": "f7ac9093",
   "metadata": {},
   "outputs": [
    {
     "name": "stdout",
     "output_type": "stream",
     "text": [
      "47\n",
      "52\n",
      "50\n",
      "49\n",
      "55\n",
      "47\n",
      "48\n",
      "30\n",
      "44\n",
      "41\n",
      "34\n",
      "47\n"
     ]
    }
   ],
   "source": [
    "for value in home_stadium.values():\n",
    "    print(value)"
   ]
  },
  {
   "cell_type": "code",
   "execution_count": 138,
   "id": "0417661d",
   "metadata": {},
   "outputs": [
    {
     "name": "stdout",
     "output_type": "stream",
     "text": [
      "2006-2007  :  47\n",
      "2007-2008  :  52\n",
      "2008-2009  :  50\n",
      "2009-2010  :  49\n",
      "2010-2011  :  55\n",
      "2011-2012  :  47\n",
      "2012-2013  :  48\n",
      "2013-2014  :  30\n",
      "2014-2015  :  44\n",
      "2015-2016  :  41\n",
      "2016-2017  :  34\n",
      "2017-2018  :  47\n"
     ]
    }
   ],
   "source": [
    "for key, value in home_stadium.items():\n",
    "    print(key,\" : \",value)"
   ]
  },
  {
   "cell_type": "code",
   "execution_count": 139,
   "id": "2798b8e7",
   "metadata": {},
   "outputs": [
    {
     "name": "stdout",
     "output_type": "stream",
     "text": [
      "2013-2014  :  30\n",
      "2014-2015  :  44\n",
      "2015-2016  :  41\n",
      "2016-2017  :  34\n"
     ]
    }
   ],
   "source": [
    "for key, value in home_stadium.items():\n",
    "    if value < avg_points_decade:\n",
    "        print(key,\" : \",value)"
   ]
  },
  {
   "cell_type": "code",
   "execution_count": 140,
   "id": "816ab90e",
   "metadata": {},
   "outputs": [],
   "source": [
    "below_avg_ponits_season = {}\n",
    "\n",
    "for key, value in home_stadium.items():\n",
    "    if value < avg_points_decade:\n",
    "        below_avg_ponits_season[key] = value"
   ]
  },
  {
   "cell_type": "code",
   "execution_count": 143,
   "id": "99458f9d",
   "metadata": {},
   "outputs": [
    {
     "data": {
      "text/plain": [
       "{'2006-2007': 47,\n",
       " '2007-2008': 52,\n",
       " '2008-2009': 50,\n",
       " '2009-2010': 49,\n",
       " '2010-2011': 55,\n",
       " '2011-2012': 47,\n",
       " '2012-2013': 48,\n",
       " '2013-2014': 30,\n",
       " '2014-2015': 44,\n",
       " '2015-2016': 41,\n",
       " '2016-2017': 34,\n",
       " '2017-2018': 47}"
      ]
     },
     "execution_count": 143,
     "metadata": {},
     "output_type": "execute_result"
    }
   ],
   "source": [
    "home_stadium"
   ]
  },
  {
   "cell_type": "code",
   "execution_count": 142,
   "id": "6d2de4e1",
   "metadata": {},
   "outputs": [
    {
     "data": {
      "text/plain": [
       "45"
      ]
     },
     "execution_count": 142,
     "metadata": {},
     "output_type": "execute_result"
    }
   ],
   "source": [
    "avg_points_decade"
   ]
  },
  {
   "cell_type": "code",
   "execution_count": 141,
   "id": "3bcd6bce",
   "metadata": {},
   "outputs": [
    {
     "data": {
      "text/plain": [
       "{'2013-2014': 30, '2014-2015': 44, '2015-2016': 41, '2016-2017': 34}"
      ]
     },
     "execution_count": 141,
     "metadata": {},
     "output_type": "execute_result"
    }
   ],
   "source": [
    "below_avg_ponits_season"
   ]
  },
  {
   "cell_type": "code",
   "execution_count": 180,
   "id": "42d5bf03",
   "metadata": {},
   "outputs": [],
   "source": [
    "def home_below_avg_points_decade(club_name):\n",
    "    season = []\n",
    "\n",
    "    for i in record:\n",
    "        if i[-1] not in season:\n",
    "            season.append(i[-1])\n",
    "            \n",
    "            \n",
    "    club = {}\n",
    "\n",
    "    for s in season: # s = '2007-2008'\n",
    "        club_record = []\n",
    "        for i in record:\n",
    "            if i[-1] == s and i[0] == club_name:\n",
    "                club_record.append(i)\n",
    "        club[s] = club_record\n",
    "        \n",
    "    home_stadium = {}\n",
    "\n",
    "    for s in season:\n",
    "        if s not in home_stadium:\n",
    "            home_stadium[s] = 0\n",
    "\n",
    "    for s in season:\n",
    "        for i in club[s]:\n",
    "            if i[-2] == \"D\":\n",
    "                home_stadium[s] += 1\n",
    "            elif i[-2] == \"H\":\n",
    "                home_stadium[s] += 3\n",
    "                \n",
    "    points = home_stadium.values()\n",
    "    avg_points_decade = round(sum(points)/len(points))\n",
    "    \n",
    "    below_avg_ponits_season = {}\n",
    "\n",
    "    for key, value in home_stadium.items():\n",
    "        if value < avg_points_decade:\n",
    "            below_avg_ponits_season[key] = value\n",
    "            \n",
    "    return club_name , avg_points_decade , below_avg_ponits_season"
   ]
  },
  {
   "cell_type": "code",
   "execution_count": 181,
   "id": "df59c553",
   "metadata": {},
   "outputs": [
    {
     "data": {
      "text/plain": [
       "('Chelsea',\n",
       " 43,\n",
       " {'2008-2009': 39,\n",
       "  '2011-2012': 39,\n",
       "  '2012-2013': 41,\n",
       "  '2015-2016': 24,\n",
       "  '2017-2018': 37})"
      ]
     },
     "execution_count": 181,
     "metadata": {},
     "output_type": "execute_result"
    }
   ],
   "source": [
    "home_below_avg_points_decade(\"Chelsea\")"
   ]
  },
  {
   "cell_type": "code",
   "execution_count": 182,
   "id": "ab9570b8",
   "metadata": {},
   "outputs": [],
   "source": [
    "club_name , avg , below_season = home_below_avg_points_decade(\"Chelsea\")"
   ]
  },
  {
   "cell_type": "code",
   "execution_count": 183,
   "id": "18c4f134",
   "metadata": {},
   "outputs": [
    {
     "data": {
      "text/plain": [
       "'Chelsea'"
      ]
     },
     "execution_count": 183,
     "metadata": {},
     "output_type": "execute_result"
    }
   ],
   "source": [
    "club_name"
   ]
  },
  {
   "cell_type": "code",
   "execution_count": 184,
   "id": "1ba051e4",
   "metadata": {},
   "outputs": [
    {
     "data": {
      "text/plain": [
       "43"
      ]
     },
     "execution_count": 184,
     "metadata": {},
     "output_type": "execute_result"
    }
   ],
   "source": [
    "avg"
   ]
  },
  {
   "cell_type": "code",
   "execution_count": 185,
   "id": "804f7cee",
   "metadata": {},
   "outputs": [
    {
     "data": {
      "text/plain": [
       "{'2008-2009': 39,\n",
       " '2011-2012': 39,\n",
       " '2012-2013': 41,\n",
       " '2015-2016': 24,\n",
       " '2017-2018': 37}"
      ]
     },
     "execution_count": 185,
     "metadata": {},
     "output_type": "execute_result"
    }
   ],
   "source": [
    "below_season"
   ]
  },
  {
   "cell_type": "code",
   "execution_count": 190,
   "id": "9e47f79e",
   "metadata": {},
   "outputs": [],
   "source": [
    "club_names = []\n",
    "\n",
    "for i in record:\n",
    "    if i[0] not in club_names:\n",
    "        club_names.append(i[0])"
   ]
  },
  {
   "cell_type": "code",
   "execution_count": 191,
   "id": "c1f0bd40",
   "metadata": {},
   "outputs": [
    {
     "name": "stdout",
     "output_type": "stream",
     "text": [
      "['AFC Bournemouth', 'Arsenal', 'Aston Villa', 'Birmingham City', 'Blackburn Rovers', 'Blackpool', 'Bolton Wanderers', 'Brighton and Hove Albion', 'Burnley', 'Cardiff City', 'Charlton Athletic', 'Chelsea', 'Crystal Palace', 'Derby County', 'Everton', 'Fulham', 'Huddersfield Town', 'Hull City', 'Leicester City', 'Liverpool', 'Manchester City', 'Manchester United', 'Middlesbrough', 'Newcastle United', 'Norwich City', 'Portsmouth', 'Queens Park Rangers', 'Reading', 'Sheffield United', 'Southampton', 'Stoke City', 'Sunderland', 'Swansea City', 'Tottenham Hotspur', 'Watford', 'West Bromwich Albion', 'West Ham United', 'Wigan Athletic', 'Wolverhampton Wanderers']\n"
     ]
    }
   ],
   "source": [
    "print(sorted(club_names))"
   ]
  },
  {
   "cell_type": "code",
   "execution_count": 192,
   "id": "68a1d302",
   "metadata": {},
   "outputs": [
    {
     "data": {
      "text/plain": [
       "39"
      ]
     },
     "execution_count": 192,
     "metadata": {},
     "output_type": "execute_result"
    }
   ],
   "source": [
    "len(club_names)"
   ]
  },
  {
   "cell_type": "code",
   "execution_count": 193,
   "id": "9ef748ec",
   "metadata": {},
   "outputs": [],
   "source": [
    "club_names = [\"Arsenal\",'Liverpool', 'Manchester City', 'Manchester United','Tottenham Hotspur']"
   ]
  },
  {
   "cell_type": "code",
   "execution_count": 196,
   "id": "01a93b4f",
   "metadata": {},
   "outputs": [
    {
     "name": "stdout",
     "output_type": "stream",
     "text": [
      "Arsenal Avg Points :  42\n",
      "{'2008-2009': 38, '2010-2011': 37, '2011-2012': 40, '2012-2013': 38, '2014-2015': 41, '2015-2016': 40}\n",
      "----------------------------------------------------------------------------------------------------\n",
      "Liverpool Avg Points :  39\n",
      "{'2011-2012': 27, '2012-2013': 33, '2014-2015': 35, '2015-2016': 32}\n",
      "----------------------------------------------------------------------------------------------------\n",
      "Manchester City Avg Points :  42\n",
      "{'2006-2007': 21, '2007-2008': 37, '2008-2009': 39, '2009-2010': 40, '2015-2016': 38, '2016-2017': 40}\n",
      "----------------------------------------------------------------------------------------------------\n",
      "Manchester United Avg Points :  45\n",
      "{'2013-2014': 30, '2014-2015': 44, '2015-2016': 41, '2016-2017': 34}\n",
      "----------------------------------------------------------------------------------------------------\n",
      "Tottenham Hotspur Avg Points :  39\n",
      "{'2007-2008': 29, '2008-2009': 35, '2010-2011': 36, '2012-2013': 38, '2013-2014': 36, '2014-2015': 33, '2015-2016': 36}\n",
      "----------------------------------------------------------------------------------------------------\n"
     ]
    }
   ],
   "source": [
    "for i in club_names:\n",
    "    club_name , avg , below_season = home_below_avg_points_decade(i)\n",
    "    print(club_name , \"Avg Points : \",avg)\n",
    "    print(below_season)\n",
    "    print(\"-\"*100)"
   ]
  },
  {
   "cell_type": "code",
   "execution_count": null,
   "id": "e3a237ac",
   "metadata": {},
   "outputs": [],
   "source": []
  }
 ],
 "metadata": {
  "kernelspec": {
   "display_name": "Python 3 (ipykernel)",
   "language": "python",
   "name": "python3"
  },
  "language_info": {
   "codemirror_mode": {
    "name": "ipython",
    "version": 3
   },
   "file_extension": ".py",
   "mimetype": "text/x-python",
   "name": "python",
   "nbconvert_exporter": "python",
   "pygments_lexer": "ipython3",
   "version": "3.9.12"
  }
 },
 "nbformat": 4,
 "nbformat_minor": 5
}
